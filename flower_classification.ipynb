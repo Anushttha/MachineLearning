{
 "cells": [
  {
   "cell_type": "code",
   "execution_count": null,
   "metadata": {
    "_cell_guid": "b1076dfc-b9ad-4769-8c92-a6c4dae69d19",
    "_uuid": "8f2839f25d086af736a60e9eeb907d3b93b6e0e5",
    "execution": {
     "iopub.execute_input": "2024-11-20T07:30:58.488100Z",
     "iopub.status.busy": "2024-11-20T07:30:58.487775Z",
     "iopub.status.idle": "2024-11-20T07:30:58.964211Z",
     "shell.execute_reply": "2024-11-20T07:30:58.963199Z",
     "shell.execute_reply.started": "2024-11-20T07:30:58.488069Z"
    },
    "trusted": true
   },
   "outputs": [],
   "source": [
    "# Flower Classification \n",
    "\n",
    "import numpy as np # linear algebra\n",
    "import pandas as pd # data processing, CSV file I/O (e.g. pd.read_csv)\n",
    "\n",
    "# Input data files are available in the read-only \"../input/\" directory\n",
    "# For example, running this (by clicking run or pressing Shift+Enter) will list all files under the input directory\n",
    "\n",
    "import os\n",
    "for dirname, _, filenames in os.walk('/kaggle/input'):\n",
    "    for filename in filenames:\n",
    "        print(os.path.join(dirname, filename))\n",
    "\n"
   ]
  },
  {
   "cell_type": "code",
   "execution_count": null,
   "metadata": {
    "execution": {
     "iopub.execute_input": "2024-11-20T07:30:58.966525Z",
     "iopub.status.busy": "2024-11-20T07:30:58.965989Z",
     "iopub.status.idle": "2024-11-20T07:31:10.917068Z",
     "shell.execute_reply": "2024-11-20T07:31:10.916211Z",
     "shell.execute_reply.started": "2024-11-20T07:30:58.966483Z"
    },
    "trusted": true
   },
   "outputs": [],
   "source": [
    "import pandas as pd\n",
    "import numpy as np\n",
    "import math, os, re, random\n",
    "\n",
    "import matplotlib.pyplot as plt\n",
    "import seaborn as sns\n",
    "from sklearn.model_selection import train_test_split\n",
    "from sklearn.metrics import*\n",
    "from sklearn.metrics import f1_score, precision_score, recall_score, confusion_matrix\n",
    "from sklearn.model_selection import KFold\n",
    "\n",
    "import keras\n",
    "from keras.models import Sequential, load_model\n",
    "from keras.layers import Dense, Dropout, Flatten\n",
    "from keras.layers import Conv2D, MaxPooling2D, BatchNormalization\n",
    "from keras.utils import to_categorical\n",
    "\n",
    "import tensorflow as tf\n",
    "import tensorflow as tf, tensorflow.keras.backend as K\n",
    "from kaggle_datasets import KaggleDatasets\n",
    "print('Tensorflow version ' + tf.__version__)\n"
   ]
  },
  {
   "cell_type": "code",
   "execution_count": null,
   "metadata": {
    "execution": {
     "iopub.execute_input": "2024-11-20T07:31:10.918551Z",
     "iopub.status.busy": "2024-11-20T07:31:10.918049Z",
     "iopub.status.idle": "2024-11-20T07:31:10.924584Z",
     "shell.execute_reply": "2024-11-20T07:31:10.923791Z",
     "shell.execute_reply.started": "2024-11-20T07:31:10.918523Z"
    },
    "trusted": true
   },
   "outputs": [],
   "source": [
    "AUTO = tf.data.experimental.AUTOTUNE\n",
    "\n",
    "# Detect TPU, return appropriate distribution strategy\n",
    "try:\n",
    "    tpu = tf.distribute.cluster_resolver.TPUClusterResolver() \n",
    "    print('Running on TPU ', tpu.master())\n",
    "except ValueError:\n",
    "    tpu = None\n",
    "\n",
    "if tpu:\n",
    "    tf.config.experimental_connect_to_cluster(tpu)\n",
    "    tf.tpu.experimental.initialize_tpu_system(tpu)\n",
    "    strategy = tf.distribute.experimental.TPUStrategy(tpu)\n",
    "else:\n",
    "    strategy = tf.distribute.get_strategy() \n",
    "print(\"REPLICAS: \", strategy.num_replicas_in_sync)"
   ]
  },
  {
   "cell_type": "code",
   "execution_count": null,
   "metadata": {
    "execution": {
     "iopub.execute_input": "2024-11-20T07:31:10.926399Z",
     "iopub.status.busy": "2024-11-20T07:31:10.926134Z",
     "iopub.status.idle": "2024-11-20T07:31:11.864168Z",
     "shell.execute_reply": "2024-11-20T07:31:11.863505Z",
     "shell.execute_reply.started": "2024-11-20T07:31:10.926374Z"
    },
    "trusted": true
   },
   "outputs": [],
   "source": [
    "GCS_DS_PATH = KaggleDatasets().get_gcs_path('tpu-getting-started')\n",
    "\n",
    "IMAGE_SIZE = [192, 192]                   \n",
    "EPOCHS = 20\n",
    "BATCH_SIZE = 24 * strategy.num_replicas_in_sync\n",
    "\n",
    "SEED = 919\n",
    "GCS_PATH = GCS_DS_PATH + '/tfrecords-jpeg-192x192'\n",
    "\n",
    "TRAINING_FILENAMES = tf.io.gfile.glob(GCS_PATH + '/train/*.tfrec')\n",
    "VALIDATION_FILENAMES = tf.io.gfile.glob(GCS_PATH + '/val/*.tfrec')\n",
    "TEST_FILENAMES = tf.io.gfile.glob(GCS_PATH + '/test/*.tfrec') "
   ]
  },
  {
   "cell_type": "code",
   "execution_count": null,
   "metadata": {
    "execution": {
     "iopub.execute_input": "2024-11-20T07:31:11.866356Z",
     "iopub.status.busy": "2024-11-20T07:31:11.865988Z",
     "iopub.status.idle": "2024-11-20T07:31:11.874502Z",
     "shell.execute_reply": "2024-11-20T07:31:11.873684Z",
     "shell.execute_reply.started": "2024-11-20T07:31:11.866316Z"
    },
    "trusted": true
   },
   "outputs": [],
   "source": [
    "CLASSES = ['pink primrose',    'hard-leaved pocket orchid', 'canterbury bells', 'sweet pea',     'wild geranium',     'tiger lily',           'moon orchid',              'bird of paradise', 'monkshood',        'globe thistle',\n",
    "           'snapdragon',       \"colt's foot\",               'king protea',      'spear thistle', 'yellow iris',       'globe-flower',         'purple coneflower',        'peruvian lily',    'balloon flower',   'giant white arum lily', \n",
    "           'fire lily',        'pincushion flower',         'fritillary',       'red ginger',    'grape hyacinth',    'corn poppy',           'prince of wales feathers', 'stemless gentian', 'artichoke',        'sweet william',        \n",
    "           'carnation',        'garden phlox',              'love in the mist', 'cosmos',        'alpine sea holly',  'ruby-lipped cattleya', 'cape flower',              'great masterwort', 'siam tulip',       'lenten rose',           \n",
    "           'barberton daisy',  'daffodil',                  'sword lily',       'poinsettia',    'bolero deep blue',  'wallflower',           'marigold',                 'buttercup',        'daisy',            'common dandelion',      \n",
    "           'petunia',          'wild pansy',                'primula',          'sunflower',     'lilac hibiscus',    'bishop of llandaff',   'gaura',                    'geranium',         'orange dahlia',    'pink-yellow dahlia',    \n",
    "           'cautleya spicata', 'japanese anemone',          'black-eyed susan', 'silverbush',    'californian poppy', 'osteospermum',         'spring crocus',            'iris',             'windflower',       'tree poppy',         \n",
    "           'gazania',          'azalea',                    'water lily',       'rose',          'thorn apple',       'morning glory',        'passion flower',           'lotus',            'toad lily',        'anthurium',            \n",
    "           'frangipani',       'clematis',                  'hibiscus',         'columbine',     'desert-rose',       'tree mallow',          'magnolia',                 'cyclamen ',        'watercress',       'canna lily',            \n",
    "           'hippeastrum ',     'bee balm',                  'pink quill',       'foxglove',      'bougainvillea',     'camellia',             'mallow',                   'mexican petunia',  'bromelia',         'blanket flower',        \n",
    "           'trumpet creeper',  'blackberry lily',           'common tulip',     'wild rose']                                                                                                                                               \n",
    "\n",
    "np.set_printoptions(threshold=15, linewidth=80)"
   ]
  },
  {
   "cell_type": "code",
   "execution_count": null,
   "metadata": {
    "execution": {
     "iopub.execute_input": "2024-11-20T07:31:11.875774Z",
     "iopub.status.busy": "2024-11-20T07:31:11.875533Z",
     "iopub.status.idle": "2024-11-20T07:31:11.960469Z",
     "shell.execute_reply": "2024-11-20T07:31:11.959488Z",
     "shell.execute_reply.started": "2024-11-20T07:31:11.875750Z"
    },
    "trusted": true
   },
   "outputs": [],
   "source": [
    "def batch_to_numpy_images_and_labels(data):\n",
    "    images, labels = data\n",
    "    numpy_images = images.numpy()\n",
    "    numpy_labels = labels.numpy()\n",
    "    if numpy_labels.dtype == object: \n",
    "        numpy_labels = [None for _ in enumerate(numpy_images)]\n",
    "    return numpy_images, numpy_labels"
   ]
  },
  {
   "cell_type": "code",
   "execution_count": null,
   "metadata": {
    "execution": {
     "iopub.execute_input": "2024-11-20T07:31:11.962201Z",
     "iopub.status.busy": "2024-11-20T07:31:11.961804Z",
     "iopub.status.idle": "2024-11-20T07:31:11.970531Z",
     "shell.execute_reply": "2024-11-20T07:31:11.969683Z",
     "shell.execute_reply.started": "2024-11-20T07:31:11.962161Z"
    },
    "trusted": true
   },
   "outputs": [],
   "source": [
    "def title_from_label_and_target(label, correct_label):\n",
    "    if correct_label is None:\n",
    "        return CLASSES[label], True\n",
    "    correct = (label == correct_label)\n",
    "    return \"{} [{}{}{}]\".format(CLASSES[label], 'OK' if correct else 'NO', u\"\\u2192\" if not correct else '',\n",
    "                                CLASSES[correct_label] if not correct else ''), correct"
   ]
  },
  {
   "cell_type": "code",
   "execution_count": null,
   "metadata": {
    "execution": {
     "iopub.execute_input": "2024-11-20T07:31:11.971783Z",
     "iopub.status.busy": "2024-11-20T07:31:11.971570Z",
     "iopub.status.idle": "2024-11-20T07:31:11.984944Z",
     "shell.execute_reply": "2024-11-20T07:31:11.984178Z",
     "shell.execute_reply.started": "2024-11-20T07:31:11.971761Z"
    },
    "trusted": true
   },
   "outputs": [],
   "source": [
    "def display_batch_of_images(databatch, predictions=None):\n",
    "    images, labels = batch_to_numpy_images_and_labels(databatch)\n",
    "    if labels is None:\n",
    "        labels = [None for _ in images]\n",
    "        \n",
    "\n",
    "    rows = int(math.sqrt(len(images)))\n",
    "    cols = len(images) // rows\n",
    " \n",
    "    FIGSIZE = 13.0\n",
    "    SPACING = 0.1\n",
    "    subplot = (rows, cols, 1)\n",
    "    \n",
    "    if rows < cols:\n",
    "        plt.figure(figsize=(FIGSIZE, FIGSIZE / cols * rows))\n",
    "    else:\n",
    "        plt.figure(figsize=(FIGSIZE / rows * cols, FIGSIZE))\n",
    "    \n",
    "    for i, (image, label) in enumerate(zip(images[:rows*cols], labels[:rows*cols])):\n",
    "        title = '' if label is None else CLASSES[label]\n",
    "        correct = True\n",
    "\n",
    "        if predictions is not None:\n",
    "            title, correct = title_from_label_and_target(predictions[i], label)\n",
    "            dynamic_titlesize = FIGSIZE * SPACING / max(rows, cols) * 40 + 3  \n",
    "            subplot = display_one_flower(image, title, subplot, not correct, titlesize=dynamic_titlesize)\n",
    "        else:\n",
    "            subplot = display_one_flower(image, title, subplot, not correct)\n",
    "    \n",
    "    plt.tight_layout()\n",
    "\n",
    "   \n",
    "    if labels[0] is None and predictions is None:\n",
    "        plt.subplots_adjust(wspace=0, hspace=0)\n",
    "    else:\n",
    "        plt.subplots_adjust(wspace=SPACING, hspace=SPACING)\n",
    "\n",
    "    plt.show()"
   ]
  },
  {
   "cell_type": "code",
   "execution_count": null,
   "metadata": {
    "execution": {
     "iopub.execute_input": "2024-11-20T07:31:11.986095Z",
     "iopub.status.busy": "2024-11-20T07:31:11.985839Z",
     "iopub.status.idle": "2024-11-20T07:31:11.996382Z",
     "shell.execute_reply": "2024-11-20T07:31:11.995597Z",
     "shell.execute_reply.started": "2024-11-20T07:31:11.986071Z"
    },
    "trusted": true
   },
   "outputs": [],
   "source": [
    "def display_confusion_matrix(cmat, score, precision, recall):\n",
    "    plt.figure(figsize=(15,15))\n",
    "    ax = plt.gca()\n",
    "    ax.matshow(cmat, cmap='Reds')\n",
    "    ax.set_xticks(range(len(CLASSES)))\n",
    "    ax.set_xticklabels(CLASSES, fontdict={'fontsize': 7})\n",
    "    plt.setp(ax.get_xticklabels(), rotation=45, ha=\"left\", rotation_mode=\"anchor\")\n",
    "    ax.set_yticks(range(len(CLASSES)))\n",
    "    ax.set_yticklabels(CLASSES, fontdict={'fontsize': 7})\n",
    "    plt.setp(ax.get_yticklabels(), rotation=45, ha=\"right\", rotation_mode=\"anchor\")\n",
    "    titlestring = \"\"\n",
    "    if score is not None:\n",
    "        titlestring += 'f1 = {:.3f} '.format(score)\n",
    "    if precision is not None:\n",
    "        titlestring += '\\nprecision = {:.3f} '.format(precision)\n",
    "    if recall is not None:\n",
    "        titlestring += '\\nrecall = {:.3f} '.format(recall)\n",
    "    if len(titlestring) > 0:\n",
    "        ax.text(101, 1, titlestring, fontdict={'fontsize': 18, 'horizontalalignment':'right', 'verticalalignment':'top', 'color':'#804040'})\n",
    "    plt.show()"
   ]
  },
  {
   "cell_type": "code",
   "execution_count": null,
   "metadata": {
    "execution": {
     "iopub.execute_input": "2024-11-20T07:31:11.999187Z",
     "iopub.status.busy": "2024-11-20T07:31:11.998931Z",
     "iopub.status.idle": "2024-11-20T07:31:12.011649Z",
     "shell.execute_reply": "2024-11-20T07:31:12.010765Z",
     "shell.execute_reply.started": "2024-11-20T07:31:11.999143Z"
    },
    "trusted": true
   },
   "outputs": [],
   "source": [
    "def display_training_curves(training, validation, title, subplot):\n",
    "    if subplot%10==1: \n",
    "        plt.subplots(figsize=(10,10), facecolor='#F0F0F0')\n",
    "        plt.tight_layout()\n",
    "    ax = plt.subplot(subplot)\n",
    "    ax.set_facecolor('#F8F8F8')\n",
    "    ax.plot(training)\n",
    "    ax.plot(validation)\n",
    "    ax.set_title('model '+ title)\n",
    "    ax.set_ylabel(title)\n",
    "    \n",
    "    ax.set_xlabel('epoch')\n",
    "    ax.legend(['train', 'valid.'])\n"
   ]
  },
  {
   "cell_type": "code",
   "execution_count": null,
   "metadata": {
    "execution": {
     "iopub.execute_input": "2024-11-20T07:31:12.013445Z",
     "iopub.status.busy": "2024-11-20T07:31:12.012731Z",
     "iopub.status.idle": "2024-11-20T07:31:12.022278Z",
     "shell.execute_reply": "2024-11-20T07:31:12.021532Z",
     "shell.execute_reply.started": "2024-11-20T07:31:12.013406Z"
    },
    "trusted": true
   },
   "outputs": [],
   "source": [
    "def decode_image(image_data):\n",
    "    image = tf.image.decode_jpeg(image_data, channels=3)\n",
    "    image = tf.cast(image, tf.float32) / 255.0  # convert image to floats in [0, 1] range\n",
    "    image = tf.reshape(image, [*IMAGE_SIZE, 3]) \n",
    "    return image\n",
    "    \n",
    "def read_labeled_tfrecord(example):\n",
    "    LABELED_TFREC_FORMAT = {\n",
    "        \"image\": tf.io.FixedLenFeature([], tf.string), \n",
    "        \"class\": tf.io.FixedLenFeature([], tf.int64),  \n",
    "    }\n",
    "    example = tf.io.parse_single_example(example, LABELED_TFREC_FORMAT)\n",
    "    image = decode_image(example['image'])\n",
    "    label = tf.cast(example['class'], tf.int32)\n",
    "    return image, label"
   ]
  },
  {
   "cell_type": "code",
   "execution_count": null,
   "metadata": {
    "execution": {
     "iopub.execute_input": "2024-11-20T07:31:12.023536Z",
     "iopub.status.busy": "2024-11-20T07:31:12.023270Z",
     "iopub.status.idle": "2024-11-20T07:31:12.035431Z",
     "shell.execute_reply": "2024-11-20T07:31:12.034645Z",
     "shell.execute_reply.started": "2024-11-20T07:31:12.023512Z"
    },
    "trusted": true
   },
   "outputs": [],
   "source": [
    "def read_unlabeled_tfrecord(example):\n",
    "    UNLABELED_TFREC_FORMAT = {\n",
    "        \"image\": tf.io.FixedLenFeature([], tf.string), \n",
    "        \"id\": tf.io.FixedLenFeature([], tf.string),  \n",
    "    }\n",
    "    example = tf.io.parse_single_example(example, UNLABELED_TFREC_FORMAT)\n",
    "    image = decode_image(example['image'])\n",
    "    idnum = example['id']\n",
    "    return image, idnum"
   ]
  },
  {
   "cell_type": "code",
   "execution_count": null,
   "metadata": {
    "execution": {
     "iopub.execute_input": "2024-11-20T07:31:12.037038Z",
     "iopub.status.busy": "2024-11-20T07:31:12.036609Z",
     "iopub.status.idle": "2024-11-20T07:31:12.044327Z",
     "shell.execute_reply": "2024-11-20T07:31:12.043667Z",
     "shell.execute_reply.started": "2024-11-20T07:31:12.037000Z"
    },
    "trusted": true
   },
   "outputs": [],
   "source": [
    "def load_dataset(filenames, labeled=True, ordered=False):\n",
    "   \n",
    "\n",
    "    ignore_order = tf.data.Options()\n",
    "    if not ordered:\n",
    "        ignore_order.experimental_deterministic = False \n",
    "\n",
    "    dataset = tf.data.TFRecordDataset(filenames, num_parallel_reads=AUTO) \n",
    "    dataset = dataset.with_options(ignore_order) \n",
    "    dataset = dataset.map(read_labeled_tfrecord if labeled else read_unlabeled_tfrecord, num_parallel_calls=AUTO)\n",
    "\n",
    "    return dataset\n",
    "    \n",
    "def data_augment(image, label):\n",
    "    \n",
    "    image = tf.image.random_flip_left_right(image)\n",
    "    \n",
    "    return image, label "
   ]
  },
  {
   "cell_type": "code",
   "execution_count": null,
   "metadata": {
    "execution": {
     "iopub.execute_input": "2024-11-20T07:31:12.045455Z",
     "iopub.status.busy": "2024-11-20T07:31:12.045165Z",
     "iopub.status.idle": "2024-11-20T07:31:12.058265Z",
     "shell.execute_reply": "2024-11-20T07:31:12.057474Z",
     "shell.execute_reply.started": "2024-11-20T07:31:12.045430Z"
    },
    "trusted": true
   },
   "outputs": [],
   "source": [
    "def get_training_dataset(dataset,do_aug=True):\n",
    "    dataset = dataset.map(data_augment, num_parallel_calls=AUTO)\n",
    "    if do_aug: dataset = dataset.map(transform, num_parallel_calls=AUTO)\n",
    "    dataset = dataset.repeat() \n",
    "    dataset = dataset.shuffle(2048)\n",
    "    dataset = dataset.batch(BATCH_SIZE)\n",
    "    dataset = dataset.prefetch(AUTO) \n",
    "    return dataset\n",
    "    \n",
    "def get_validation_dataset(dataset):\n",
    "    dataset = dataset.batch(BATCH_SIZE)\n",
    "    dataset = dataset.cache()\n",
    "    dataset = dataset.prefetch(AUTO) \n",
    "    return dataset\n",
    "def get_test_dataset(ordered=False):\n",
    "    dataset = load_dataset(TEST_FILENAMES, labeled=False, ordered=ordered)\n",
    "    dataset = dataset.batch(BATCH_SIZE)\n",
    "    dataset = dataset.prefetch(AUTO) \n",
    "    return dataset\n",
    "def count_data_items(filenames):\n",
    "    \n",
    "    n = [int(re.compile(r\"-([0-9]*)\\.\").search(filename).group(1)) for filename in filenames]\n",
    "    return np.sum(n)"
   ]
  },
  {
   "cell_type": "code",
   "execution_count": null,
   "metadata": {
    "execution": {
     "iopub.execute_input": "2024-11-20T07:31:12.059543Z",
     "iopub.status.busy": "2024-11-20T07:31:12.059272Z",
     "iopub.status.idle": "2024-11-20T07:31:12.074706Z",
     "shell.execute_reply": "2024-11-20T07:31:12.073832Z",
     "shell.execute_reply.started": "2024-11-20T07:31:12.059519Z"
    },
    "trusted": true
   },
   "outputs": [],
   "source": [
    "NUM_TRAINING_IMAGES = count_data_items(TRAINING_FILENAMES)\n",
    "NUM_VALIDATION_IMAGES = count_data_items(VALIDATION_FILENAMES)\n",
    "NUM_TEST_IMAGES = count_data_items(TEST_FILENAMES)\n",
    "STEPS_PER_EPOCH = NUM_TRAINING_IMAGES // BATCH_SIZE\n",
    "print(\"BATCH_SIZE\", BATCH_SIZE)\n",
    "print('Dataset: {} training images, {} validation images, {} unlabeled test images'.format(NUM_TRAINING_IMAGES, NUM_VALIDATION_IMAGES, NUM_TEST_IMAGES))\n",
    "# Dataset: 12753 training images, 3712 validation images, 7382 unlabeled test images\n",
    "def display_one_flower(image, title, subplot, red=False, titlesize=16):\n",
    "    plt.subplot(*subplot)\n",
    "    plt.axis('off')\n",
    "    plt.imshow(image)\n",
    "    if len(title) > 0:\n",
    "        plt.title(title, fontsize=int(titlesize) if not red else int(titlesize/1.2), color='red' if red else 'black', fontdict={'verticalalignment':'center'}, pad=int(titlesize/1.5))\n",
    "    return (subplot[0], subplot[1], subplot[2]+1)"
   ]
  },
  {
   "cell_type": "code",
   "execution_count": null,
   "metadata": {
    "execution": {
     "iopub.execute_input": "2024-11-20T07:31:12.076118Z",
     "iopub.status.busy": "2024-11-20T07:31:12.075644Z",
     "iopub.status.idle": "2024-11-20T07:31:12.338190Z",
     "shell.execute_reply": "2024-11-20T07:31:12.337264Z",
     "shell.execute_reply.started": "2024-11-20T07:31:12.076092Z"
    },
    "trusted": true
   },
   "outputs": [],
   "source": [
    "LR_START = 0.00001\n",
    "LR_MAX = 0.00006 * strategy.num_replicas_in_sync\n",
    "LR_MIN = 0.00001\n",
    "LR_RAMPUP_EPOCHS = 5\n",
    "LR_SUSTAIN_EPOCHS = 0\n",
    "LR_EXP_DECAY = .8\n",
    "def lrfn(epoch):\n",
    "    if epoch < LR_RAMPUP_EPOCHS:\n",
    "        lr = (LR_MAX - LR_START) / LR_RAMPUP_EPOCHS * epoch + LR_START\n",
    "    elif epoch < LR_RAMPUP_EPOCHS + LR_SUSTAIN_EPOCHS:\n",
    "        lr = LR_MAX\n",
    "    else:\n",
    "        lr = (LR_MAX - LR_MIN) * LR_EXP_DECAY**(epoch - LR_RAMPUP_EPOCHS - LR_SUSTAIN_EPOCHS) + LR_MIN\n",
    "    return lr\n",
    "    \n",
    "lr_callback = tf.keras.callbacks.LearningRateScheduler(lrfn, verbose = True)\n",
    "\n",
    "rng = [i for i in range(25 if EPOCHS<25 else EPOCHS)]\n",
    "y = [lrfn(x) for x in rng]\n",
    "plt.plot(rng, y)\n",
    "print(\"Learning rate schedule: {:.3g} to {:.3g} to {:.3g}\".format(y[0], max(y), y[-1]))"
   ]
  },
  {
   "cell_type": "code",
   "execution_count": null,
   "metadata": {
    "execution": {
     "iopub.execute_input": "2024-11-20T07:31:12.339568Z",
     "iopub.status.busy": "2024-11-20T07:31:12.339267Z",
     "iopub.status.idle": "2024-11-20T07:31:12.631933Z",
     "shell.execute_reply": "2024-11-20T07:31:12.630948Z",
     "shell.execute_reply.started": "2024-11-20T07:31:12.339542Z"
    },
    "trusted": true
   },
   "outputs": [],
   "source": [
    "plt.figure(figsize=(12, 6))\n",
    "plt.bar(rng, y, color=\"teal\", width=0.6)\n",
    "plt.xlabel(\"Epochs\")\n",
    "plt.ylabel(\"Learning Rate\")\n",
    "plt.title(\"Learning Rate per Epoch\")\n",
    "plt.show()"
   ]
  },
  {
   "cell_type": "code",
   "execution_count": null,
   "metadata": {
    "execution": {
     "iopub.execute_input": "2024-11-20T07:31:12.633897Z",
     "iopub.status.busy": "2024-11-20T07:31:12.633543Z",
     "iopub.status.idle": "2024-11-20T07:31:12.641449Z",
     "shell.execute_reply": "2024-11-20T07:31:12.640191Z",
     "shell.execute_reply.started": "2024-11-20T07:31:12.633858Z"
    },
    "trusted": true
   },
   "outputs": [],
   "source": [
    "def get_mat(rotation, shear, height_zoom, width_zoom, height_shift, width_shift):\n",
    "    # returns 3x3 transformmatrix which transforms indicies\n",
    "        \n",
    "    # CONVERT DEGREES TO RADIANS\n",
    "    rotation = math.pi * rotation / 180.\n",
    "    shear = math.pi * shear / 180.\n",
    "    \n",
    "    # ROTATION MATRIX\n",
    "    c1 = tf.math.cos(rotation)\n",
    "    s1 = tf.math.sin(rotation)\n",
    "    one = tf.constant([1],dtype='float32')\n",
    "    zero = tf.constant([0],dtype='float32')\n",
    "    rotation_matrix = tf.reshape( tf.concat([c1,s1,zero, -s1,c1,zero, zero,zero,one],axis=0),[3,3] )\n",
    "     # SHEAR MATRIX\n",
    "    c2 = tf.math.cos(shear)\n",
    "    s2 = tf.math.sin(shear)\n",
    "    shear_matrix = tf.reshape( tf.concat([one,s2,zero, zero,c2,zero, zero,zero,one],axis=0),[3,3] )    \n",
    "     # ZOOM MATRIX\n",
    "    zoom_matrix = tf.reshape( tf.concat([one/height_zoom,zero,zero, zero,one/width_zoom,zero, zero,zero,one],axis=0),[3,3] )\n",
    "    \n",
    "    # SHIFT MATRIX\n",
    "    shift_matrix = tf.reshape( tf.concat([one,zero,height_shift, zero,one,width_shift, zero,zero,one],axis=0),[3,3] )\n",
    "    \n",
    "    return K.dot(K.dot(rotation_matrix, shear_matrix), K.dot(zoom_matrix, shift_matrix))"
   ]
  },
  {
   "cell_type": "code",
   "execution_count": null,
   "metadata": {
    "execution": {
     "iopub.execute_input": "2024-11-20T07:31:12.643045Z",
     "iopub.status.busy": "2024-11-20T07:31:12.642692Z",
     "iopub.status.idle": "2024-11-20T07:31:12.658265Z",
     "shell.execute_reply": "2024-11-20T07:31:12.657425Z",
     "shell.execute_reply.started": "2024-11-20T07:31:12.643003Z"
    },
    "trusted": true
   },
   "outputs": [],
   "source": [
    "def transform(image,label):\n",
    "    DIM = IMAGE_SIZE[0]\n",
    "    XDIM = DIM%2 #fix for size 331\n",
    "    \n",
    "    rot = 15. * tf.random.normal([1],dtype='float32')\n",
    "    shr = 5. * tf.random.normal([1],dtype='float32') \n",
    "    h_zoom = 1.0 + tf.random.normal([1],dtype='float32')/10.\n",
    "    w_zoom = 1.0 + tf.random.normal([1],dtype='float32')/10.\n",
    "    h_shift = 16. * tf.random.normal([1],dtype='float32') \n",
    "    w_shift = 16. * tf.random.normal([1],dtype='float32') \n",
    "    m = get_mat(rot,shr,h_zoom,w_zoom,h_shift,w_shift) \n",
    "    x = tf.repeat( tf.range(DIM//2,-DIM//2,-1), DIM )\n",
    "    y = tf.tile( tf.range(-DIM//2,DIM//2),[DIM] )\n",
    "    z = tf.ones([DIM*DIM],dtype='int32')\n",
    "    idx = tf.stack( [x,y,z] )\n",
    "    # ROTATE DESTINATION PIXELS ONTO ORIGIN PIXELS\n",
    "    idx2 = K.dot(m,tf.cast(idx,dtype='float32'))\n",
    "    idx2 = K.cast(idx2,dtype='int32')\n",
    "    idx2 = K.clip(idx2,-DIM//2+XDIM+1,DIM//2)\n",
    "    # FIND ORIGIN PIXEL VALUES           \n",
    "    idx3 = tf.stack( [DIM//2-idx2[0,], DIM//2-1+idx2[1,]] )\n",
    "    d = tf.gather_nd(image,tf.transpose(idx3))   \n",
    "    return tf.reshape(d,[DIM,DIM,3]),label"
   ]
  },
  {
   "cell_type": "code",
   "execution_count": null,
   "metadata": {
    "execution": {
     "iopub.execute_input": "2024-11-20T07:31:12.659878Z",
     "iopub.status.busy": "2024-11-20T07:31:12.659519Z",
     "iopub.status.idle": "2024-11-20T07:31:17.746072Z",
     "shell.execute_reply": "2024-11-20T07:31:17.744579Z",
     "shell.execute_reply.started": "2024-11-20T07:31:12.659843Z"
    },
    "trusted": true
   },
   "outputs": [],
   "source": [
    "row = 4; col = 4;\n",
    "all_elements = get_training_dataset(load_dataset(TRAINING_FILENAMES),do_aug=False).unbatch()\n",
    "one_element = tf.data.Dataset.from_tensors( next(iter(all_elements)) )\n",
    "augmented_element = one_element.repeat().map(transform).batch(row*col)\n",
    "\n",
    "for (img,label) in augmented_element:\n",
    "    plt.figure(figsize=(15,int(15*row/col)))\n",
    "    for j in range(row*col):\n",
    "        plt.subplot(row,col,j+1)\n",
    "        plt.axis('off')\n",
    "        plt.imshow(img[j,])\n",
    "    plt.show()\n",
    "    break"
   ]
  },
  {
   "cell_type": "code",
   "execution_count": null,
   "metadata": {
    "execution": {
     "iopub.execute_input": "2024-11-20T07:31:17.748214Z",
     "iopub.status.busy": "2024-11-20T07:31:17.747606Z",
     "iopub.status.idle": "2024-11-20T07:31:17.757571Z",
     "shell.execute_reply": "2024-11-20T07:31:17.756735Z",
     "shell.execute_reply.started": "2024-11-20T07:31:17.748175Z"
    },
    "trusted": true
   },
   "outputs": [],
   "source": [
    "from tensorflow.keras.applications import DenseNet201\n",
    "def get_model():\n",
    "    with strategy.scope():\n",
    "        rnet = DenseNet201(\n",
    "            input_shape=(IMAGE_SIZE[0], IMAGE_SIZE[1], 3),\n",
    "            weights='imagenet',\n",
    "            include_top=False\n",
    "        )\n",
    "        rnet.trainable = True\n",
    "        model = tf.keras.Sequential([\n",
    "            rnet,\n",
    "            tf.keras.layers.GlobalAveragePooling2D(),\n",
    "            tf.keras.layers.Dense(len(CLASSES), activation='softmax',dtype='float32')\n",
    "        ])\n",
    "    model.compile(\n",
    "        optimizer='adam',\n",
    "        loss = 'sparse_categorical_crossentropy',\n",
    "        metrics=['sparse_categorical_accuracy']\n",
    "    )\n",
    "    return model"
   ]
  },
  {
   "cell_type": "code",
   "execution_count": null,
   "metadata": {
    "execution": {
     "iopub.execute_input": "2024-11-20T07:31:17.758901Z",
     "iopub.status.busy": "2024-11-20T07:31:17.758608Z",
     "iopub.status.idle": "2024-11-20T07:31:17.781130Z",
     "shell.execute_reply": "2024-11-20T07:31:17.780209Z",
     "shell.execute_reply.started": "2024-11-20T07:31:17.758868Z"
    },
    "trusted": true
   },
   "outputs": [],
   "source": [
    "def train_cross_validate(folds = 10):\n",
    "    histories = []\n",
    "    models = []\n",
    "    early_stopping = tf.keras.callbacks.EarlyStopping(monitor = 'val_loss', patience = 3)\n",
    "    kfold = KFold(folds, shuffle = True, random_state = SEED)\n",
    "\n",
    "    try:\n",
    "        tpu = tf.distribute.cluster_resolver.TPUClusterResolver()  \n",
    "        print('Running on TPU ', tpu.master())\n",
    "        tf.config.experimental_connect_to_cluster(tpu)\n",
    "        tf.tpu.experimental.initialize_tpu_system(tpu)\n",
    "        strategy = tf.distribute.TPUStrategy(tpu)\n",
    "        \n",
    "    except ValueError:\n",
    "        # If TPU not available, use default strategy\n",
    "        strategy = tf.distribute.get_strategy()\n",
    "        print('Running on GPU/CPU with strategy:', strategy)\n",
    "\n",
    "    for f, (trn_ind, val_ind) in enumerate(kfold.split(TRAINING_FILENAMES)):\n",
    "        print(); print('#'*25)\n",
    "        print('### FOLD',f+1)\n",
    "        print('#'*25)\n",
    "        train_dataset = load_dataset(list(pd.DataFrame({'TRAINING_FILENAMES': TRAINING_FILENAMES}).loc[trn_ind]['TRAINING_FILENAMES']), labeled = True)\n",
    "        val_dataset = load_dataset(list(pd.DataFrame({'TRAINING_FILENAMES': TRAINING_FILENAMES}).loc[val_ind]['TRAINING_FILENAMES']), labeled = True, ordered = True)\n",
    "        model = get_model()\n",
    "        history = model.fit(\n",
    "            get_training_dataset(train_dataset), \n",
    "            steps_per_epoch = STEPS_PER_EPOCH,\n",
    "            epochs = EPOCHS,\n",
    "            callbacks = [lr_callback],#, early_stopping],\n",
    "            validation_data = get_validation_dataset(val_dataset),\n",
    "            verbose=2\n",
    "        )\n",
    "        models.append(model)\n",
    "        histories.append(history)\n",
    "        model.export(\"model.keras\")\n",
    "\n",
    "    return histories, models"
   ]
  },
  {
   "cell_type": "code",
   "execution_count": null,
   "metadata": {
    "execution": {
     "iopub.execute_input": "2024-11-20T07:31:17.782432Z",
     "iopub.status.busy": "2024-11-20T07:31:17.782122Z",
     "iopub.status.idle": "2024-11-20T07:31:18.451154Z",
     "shell.execute_reply": "2024-11-20T07:31:18.450493Z",
     "shell.execute_reply.started": "2024-11-20T07:31:17.782398Z"
    },
    "trusted": true
   },
   "outputs": [],
   "source": [
    "EPOCHS = 12\n",
    "with strategy.scope():\n",
    "    pretrained_model = tf.keras.applications.VGG16(\n",
    "        weights='imagenet',\n",
    "        include_top = False,\n",
    "        input_shape = [*IMAGE_SIZE, 3],\n",
    "    )\n",
    "    pretrained_model.trainable = False\n",
    "    \n",
    "    model = tf.keras.Sequential([\n",
    "        pretrained_model,\n",
    "        tf.keras.layers.GlobalAveragePooling2D(),\n",
    "        tf.keras.layers.Dense(len(CLASSES), activation='softmax')\n",
    "    ])"
   ]
  },
  {
   "cell_type": "code",
   "execution_count": null,
   "metadata": {
    "execution": {
     "iopub.execute_input": "2024-11-20T07:31:18.452718Z",
     "iopub.status.busy": "2024-11-20T07:31:18.452350Z",
     "iopub.status.idle": "2024-11-20T07:31:18.477217Z",
     "shell.execute_reply": "2024-11-20T07:31:18.476454Z",
     "shell.execute_reply.started": "2024-11-20T07:31:18.452678Z"
    },
    "trusted": true
   },
   "outputs": [],
   "source": [
    "model.compile(\n",
    "    optimizer='adam',\n",
    "    loss='sparse_categorical_crossentropy',\n",
    "    metrics=['sparse_categorical_accuracy'])\n",
    "\n",
    "model.summary()"
   ]
  },
  {
   "cell_type": "code",
   "execution_count": null,
   "metadata": {
    "execution": {
     "iopub.execute_input": "2024-11-20T07:31:18.479069Z",
     "iopub.status.busy": "2024-11-20T07:31:18.478458Z",
     "iopub.status.idle": "2024-11-20T07:31:18.710186Z",
     "shell.execute_reply": "2024-11-20T07:31:18.709332Z",
     "shell.execute_reply.started": "2024-11-20T07:31:18.479028Z"
    },
    "trusted": true
   },
   "outputs": [],
   "source": [
    "def exponential_lr(epoch,\n",
    "                   start_lr = 0.00001, min_lr = 0.00001, max_lr = 0.00005,\n",
    "                   rampup_epochs = 5, sustain_epochs = 0,\n",
    "                   exp_decay = 0.8):\n",
    "\n",
    "    def lr(epoch, start_lr, min_lr, max_lr, rampup_epochs, sustain_epochs, exp_decay):\n",
    "       \n",
    "        if epoch < rampup_epochs:\n",
    "            lr = ((max_lr - start_lr) /\n",
    "                  rampup_epochs * epoch + start_lr)\n",
    "       \n",
    "        elif epoch < rampup_epochs + sustain_epochs:\n",
    "            lr = max_lr\n",
    "       \n",
    "        else:\n",
    "            lr = ((max_lr - min_lr) *\n",
    "                  exp_decay**(epoch - rampup_epochs - sustain_epochs) +\n",
    "                  min_lr)\n",
    "        return lr\n",
    "    return lr(epoch,\n",
    "              start_lr,\n",
    "              min_lr,\n",
    "              max_lr,\n",
    "              rampup_epochs,\n",
    "              sustain_epochs,\n",
    "              exp_decay)\n",
    "\n",
    "lr_callback = tf.keras.callbacks.LearningRateScheduler(exponential_lr, verbose=True)\n",
    "\n",
    "rng = [i for i in range(EPOCHS)]\n",
    "y = [exponential_lr(x) for x in rng]\n",
    "plt.plot(rng, y)\n",
    "print(\"Learned Schedule: {:.3g} to {:.3g} to {:.3g}\".format(y[0], max(y), y[-1]))"
   ]
  },
  {
   "cell_type": "code",
   "execution_count": null,
   "metadata": {
    "execution": {
     "iopub.execute_input": "2024-11-20T07:31:33.844469Z",
     "iopub.status.busy": "2024-11-20T07:31:33.844076Z"
    },
    "trusted": true
   },
   "outputs": [],
   "source": [
    "train_cross_validate()"
   ]
  },
  {
   "cell_type": "code",
   "execution_count": null,
   "metadata": {
    "execution": {
     "iopub.execute_input": "2024-11-20T19:50:34.999220Z",
     "iopub.status.busy": "2024-11-20T19:50:34.998467Z",
     "iopub.status.idle": "2024-11-20T19:50:45.410367Z",
     "shell.execute_reply": "2024-11-20T19:50:45.408972Z",
     "shell.execute_reply.started": "2024-11-20T19:50:34.999179Z"
    },
    "trusted": true
   },
   "outputs": [],
   "source": [
    "import numpy as np\n",
    "import tensorflow as tf\n",
    "from tensorflow.keras.models import load_model\n",
    "from tensorflow.keras.preprocessing.image import load_img, img_to_array\n",
    "import matplotlib.pyplot as plt\n",
    "\n",
    "CLASSES = ['pink primrose',    'hard-leaved pocket orchid', 'canterbury bells', 'sweet pea',     'wild geranium',     'tiger lily',           'moon orchid',              'bird of paradise', 'monkshood',        'globe thistle',\n",
    "           'snapdragon',       \"colt's foot\",               'king protea',      'spear thistle', 'yellow iris',       'globe-flower',         'purple coneflower',        'peruvian lily',    'balloon flower',   'giant white arum lily', \n",
    "           'fire lily',        'pincushion flower',         'fritillary',       'red ginger',    'grape hyacinth',    'corn poppy',           'prince of wales feathers', 'stemless gentian', 'artichoke',        'sweet william',        \n",
    "           'carnation',        'garden phlox',              'love in the mist', 'cosmos',        'alpine sea holly',  'ruby-lipped cattleya', 'cape flower',              'great masterwort', 'siam tulip',       'lenten rose',           \n",
    "           'barberton daisy',  'daffodil',                  'sword lily',       'poinsettia',    'bolero deep blue',  'wallflower',           'marigold',                 'buttercup',        'daisy',            'common dandelion',      \n",
    "           'petunia',          'wild pansy',                'primula',          'sunflower',     'lilac hibiscus',    'bishop of llandaff',   'gaura',                    'geranium',         'orange dahlia',    'pink-yellow dahlia',    \n",
    "           'cautleya spicata', 'japanese anemone',          'black-eyed susan', 'silverbush',    'californian poppy', 'osteospermum',         'spring crocus',            'iris',             'windflower',       'tree poppy',         \n",
    "           'gazania',          'azalea',                    'water lily',       'rose',          'thorn apple',       'morning glory',        'passion flower',           'lotus',            'toad lily',        'anthurium',            \n",
    "           'frangipani',       'clematis',                  'hibiscus',         'columbine',     'desert-rose',       'tree mallow',          'magnolia',                 'cyclamen ',        'watercress',       'canna lily',            \n",
    "           'hippeastrum ',     'bee balm',                  'pink quill',       'foxglove',      'bougainvillea',     'camellia',             'mallow',                   'mexican petunia',  'bromelia',         'blanket flower',        \n",
    "           'trumpet creeper',  'blackberry lily',           'common tulip',     'wild rose']                                                                                                                                               \n",
    "\n",
    "\n",
    "model_path = '/kaggle/input/model_h/tensorflow2/default/1/model_fold_1.h5' \n",
    "model = tf.keras.models.load_model(model_path)\n",
    "\n",
    "\n",
    "def preprocess_image(image_path, target_size=(192, 192)): \n",
    "    img = load_img(image_path, target_size=target_size)\n",
    "    img_array = img_to_array(img) \n",
    "    img_array = np.expand_dims(img_array, axis=0) \n",
    "    img_array = img_array / 255.0 \n",
    "    return img_array\n",
    "\n",
    "\n",
    "def predict_flower(image_path):\n",
    "    preprocessed_image = preprocess_image(image_path)\n",
    "    predictions = model.predict(preprocessed_image)\n",
    "    predicted_class = CLASSES[np.argmax(predictions)]  \n",
    "    confidence = np.max(predictions)  \n",
    "    \n",
    "    plt.imshow(load_img(image_path))\n",
    "    plt.title(f'Predicted: {predicted_class} ({confidence:.2f})')\n",
    "    plt.axis('off')\n",
    "    plt.show()\n",
    "    \n",
    "    return predicted_class, confidence\n",
    "\n",
    "image_path = '/kaggle/input/lotus-g/download (1).jpeg'\n",
    "predicted_class, confidence = predict_flower(image_path)\n",
    "print(f'Predicted Class: {predicted_class}, Confidence: {confidence:.2f}')"
   ]
  },
  {
   "cell_type": "code",
   "execution_count": null,
   "metadata": {
    "execution": {
     "iopub.execute_input": "2024-11-20T17:00:08.471068Z",
     "iopub.status.busy": "2024-11-20T17:00:08.470675Z",
     "iopub.status.idle": "2024-11-20T17:01:41.032859Z",
     "shell.execute_reply": "2024-11-20T17:01:41.030976Z",
     "shell.execute_reply.started": "2024-11-20T17:00:08.471035Z"
    },
    "trusted": true
   },
   "outputs": [],
   "source": [
    "\n",
    "!pip install --upgrade tensorflow\n"
   ]
  }
 ],
 "metadata": {
  "kaggle": {
   "accelerator": "none",
   "dataSources": [
    {
     "databundleVersionId": 1243559,
     "sourceId": 21154,
     "sourceType": "competition"
    },
    {
     "datasetId": 6129728,
     "sourceId": 9966058,
     "sourceType": "datasetVersion"
    },
    {
     "modelId": 170044,
     "modelInstanceId": 147521,
     "sourceId": 173285,
     "sourceType": "modelInstanceVersion"
    }
   ],
   "dockerImageVersionId": 30786,
   "isGpuEnabled": false,
   "isInternetEnabled": true,
   "language": "python",
   "sourceType": "notebook"
  },
  "kernelspec": {
   "display_name": "Python 3",
   "language": "python",
   "name": "python3"
  },
  "language_info": {
   "codemirror_mode": {
    "name": "ipython",
    "version": 3
   },
   "file_extension": ".py",
   "mimetype": "text/x-python",
   "name": "python",
   "nbconvert_exporter": "python",
   "pygments_lexer": "ipython3",
   "version": "3.10.14"
  }
 },
 "nbformat": 4,
 "nbformat_minor": 4
}
